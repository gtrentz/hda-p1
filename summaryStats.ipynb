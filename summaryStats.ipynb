{
 "cells": [
  {
   "cell_type": "code",
   "execution_count": 1,
   "metadata": {},
   "outputs": [
    {
     "name": "stderr",
     "output_type": "stream",
     "text": [
      "/opt/anaconda3/lib/python3.9/site-packages/scipy/__init__.py:146: UserWarning: A NumPy version >=1.16.5 and <1.23.0 is required for this version of SciPy (detected version 1.26.2\n",
      "  warnings.warn(f\"A NumPy version >={np_minversion} and <{np_maxversion}\"\n"
     ]
    }
   ],
   "source": [
    "import pandas as pd\n",
    "import matplotlib.pyplot as plt\n",
    "import seaborn as sns\n",
    "\n",
    "covid_studies = pd.read_csv(\"/Users/gabe/Documents/GitHub/hda-p1/covid.csv\")\n",
    "breast_cancer_studies = pd.read_csv(\"/Users/gabe/Documents/GitHub/hda-p1/breast.csv\")\n"
   ]
  },
  {
   "cell_type": "code",
   "execution_count": 7,
   "metadata": {},
   "outputs": [
    {
     "data": {
      "text/html": [
       "<div>\n",
       "<style scoped>\n",
       "    .dataframe tbody tr th:only-of-type {\n",
       "        vertical-align: middle;\n",
       "    }\n",
       "\n",
       "    .dataframe tbody tr th {\n",
       "        vertical-align: top;\n",
       "    }\n",
       "\n",
       "    .dataframe thead th {\n",
       "        text-align: right;\n",
       "    }\n",
       "</style>\n",
       "<table border=\"1\" class=\"dataframe\">\n",
       "  <thead>\n",
       "    <tr style=\"text-align: right;\">\n",
       "      <th></th>\n",
       "      <th>NCT Number</th>\n",
       "      <th>Status</th>\n",
       "      <th>Conditions</th>\n",
       "      <th>Interventions</th>\n",
       "      <th>Sponsor</th>\n",
       "      <th>Collaborators</th>\n",
       "      <th>Sex</th>\n",
       "      <th>Age</th>\n",
       "      <th>Phases</th>\n",
       "      <th>Enrollment</th>\n",
       "      <th>Funder Type</th>\n",
       "      <th>Study Type</th>\n",
       "      <th>Start Date</th>\n",
       "      <th>Completion Date</th>\n",
       "    </tr>\n",
       "  </thead>\n",
       "  <tbody>\n",
       "    <tr>\n",
       "      <th>0</th>\n",
       "      <td>NCT04461977</td>\n",
       "      <td>UNKNOWN</td>\n",
       "      <td>Peripheral Neuropathy Due to Chemotherapy</td>\n",
       "      <td>OTHER: True acupuncture|OTHER: Sham acupuncture</td>\n",
       "      <td>Instituto Brasileiro de Controle do Cancer</td>\n",
       "      <td>NaN</td>\n",
       "      <td>ALL</td>\n",
       "      <td>ADULT, OLDER_ADULT</td>\n",
       "      <td>NaN</td>\n",
       "      <td>60</td>\n",
       "      <td>OTHER</td>\n",
       "      <td>INTERVENTIONAL</td>\n",
       "      <td>1/30/2020</td>\n",
       "      <td>2/28/2022</td>\n",
       "    </tr>\n",
       "    <tr>\n",
       "      <th>1</th>\n",
       "      <td>NCT05422794</td>\n",
       "      <td>RECRUITING</td>\n",
       "      <td>Anatomic Stage III Breast Cancer AJCC v8|Anato...</td>\n",
       "      <td>DRUG: BET Bromodomain Inhibitor ZEN-3694|PROCE...</td>\n",
       "      <td>National Cancer Institute (NCI)</td>\n",
       "      <td>NaN</td>\n",
       "      <td>ALL</td>\n",
       "      <td>ADULT, OLDER_ADULT</td>\n",
       "      <td>PHASE1</td>\n",
       "      <td>57</td>\n",
       "      <td>NIH</td>\n",
       "      <td>INTERVENTIONAL</td>\n",
       "      <td>5/18/2023</td>\n",
       "      <td>12/31/2025</td>\n",
       "    </tr>\n",
       "    <tr>\n",
       "      <th>2</th>\n",
       "      <td>NCT05122494</td>\n",
       "      <td>RECRUITING</td>\n",
       "      <td>Breast Cancer</td>\n",
       "      <td>DRUG: Hemay022+AI|DRUG: Lapatinib+Capecitabine</td>\n",
       "      <td>Tianjin Hemay Oncology Pharmaceutical Co., Ltd</td>\n",
       "      <td>NaN</td>\n",
       "      <td>FEMALE</td>\n",
       "      <td>ADULT, OLDER_ADULT</td>\n",
       "      <td>PHASE3</td>\n",
       "      <td>339</td>\n",
       "      <td>INDUSTRY</td>\n",
       "      <td>INTERVENTIONAL</td>\n",
       "      <td>1/19/2022</td>\n",
       "      <td>2024-06</td>\n",
       "    </tr>\n",
       "    <tr>\n",
       "      <th>3</th>\n",
       "      <td>NCT05000294</td>\n",
       "      <td>SUSPENDED</td>\n",
       "      <td>Bile Duct Cancer|Gall Bladder Cancer|Breast Ca...</td>\n",
       "      <td>DRUG: Atezolizumab|DRUG: Tivozanib</td>\n",
       "      <td>University of Florida</td>\n",
       "      <td>Genentech, Inc.|Aveo Oncology Pharmaceuticals</td>\n",
       "      <td>ALL</td>\n",
       "      <td>ADULT, OLDER_ADULT</td>\n",
       "      <td>PHASE1|PHASE2</td>\n",
       "      <td>29</td>\n",
       "      <td>OTHER</td>\n",
       "      <td>INTERVENTIONAL</td>\n",
       "      <td>11/3/2021</td>\n",
       "      <td>2024-06</td>\n",
       "    </tr>\n",
       "    <tr>\n",
       "      <th>4</th>\n",
       "      <td>NCT05134194</td>\n",
       "      <td>UNKNOWN</td>\n",
       "      <td>Triple Negative Breast Cancer</td>\n",
       "      <td>DRUG: Camrelizumabã€Capecitabine/eribulin/gem...</td>\n",
       "      <td>Suzhou Suncadia Biopharmaceuticals Co., Ltd.</td>\n",
       "      <td>NaN</td>\n",
       "      <td>FEMALE</td>\n",
       "      <td>ADULT, OLDER_ADULT</td>\n",
       "      <td>PHASE3</td>\n",
       "      <td>104</td>\n",
       "      <td>INDUSTRY</td>\n",
       "      <td>INTERVENTIONAL</td>\n",
       "      <td>11/30/2021</td>\n",
       "      <td>4/30/2023</td>\n",
       "    </tr>\n",
       "  </tbody>\n",
       "</table>\n",
       "</div>"
      ],
      "text/plain": [
       "    NCT Number      Status                                         Conditions  \\\n",
       "0  NCT04461977     UNKNOWN          Peripheral Neuropathy Due to Chemotherapy   \n",
       "1  NCT05422794  RECRUITING  Anatomic Stage III Breast Cancer AJCC v8|Anato...   \n",
       "2  NCT05122494  RECRUITING                                      Breast Cancer   \n",
       "3  NCT05000294   SUSPENDED  Bile Duct Cancer|Gall Bladder Cancer|Breast Ca...   \n",
       "4  NCT05134194     UNKNOWN                      Triple Negative Breast Cancer   \n",
       "\n",
       "                                       Interventions  \\\n",
       "0    OTHER: True acupuncture|OTHER: Sham acupuncture   \n",
       "1  DRUG: BET Bromodomain Inhibitor ZEN-3694|PROCE...   \n",
       "2     DRUG: Hemay022+AI|DRUG: Lapatinib+Capecitabine   \n",
       "3                 DRUG: Atezolizumab|DRUG: Tivozanib   \n",
       "4  DRUG: Camrelizumabã€Capecitabine/eribulin/gem...   \n",
       "\n",
       "                                          Sponsor  \\\n",
       "0      Instituto Brasileiro de Controle do Cancer   \n",
       "1                 National Cancer Institute (NCI)   \n",
       "2  Tianjin Hemay Oncology Pharmaceutical Co., Ltd   \n",
       "3                           University of Florida   \n",
       "4    Suzhou Suncadia Biopharmaceuticals Co., Ltd.   \n",
       "\n",
       "                                   Collaborators     Sex                 Age  \\\n",
       "0                                            NaN     ALL  ADULT, OLDER_ADULT   \n",
       "1                                            NaN     ALL  ADULT, OLDER_ADULT   \n",
       "2                                            NaN  FEMALE  ADULT, OLDER_ADULT   \n",
       "3  Genentech, Inc.|Aveo Oncology Pharmaceuticals     ALL  ADULT, OLDER_ADULT   \n",
       "4                                            NaN  FEMALE  ADULT, OLDER_ADULT   \n",
       "\n",
       "          Phases  Enrollment Funder Type      Study Type  Start Date  \\\n",
       "0            NaN          60       OTHER  INTERVENTIONAL   1/30/2020   \n",
       "1         PHASE1          57         NIH  INTERVENTIONAL   5/18/2023   \n",
       "2         PHASE3         339    INDUSTRY  INTERVENTIONAL   1/19/2022   \n",
       "3  PHASE1|PHASE2          29       OTHER  INTERVENTIONAL   11/3/2021   \n",
       "4         PHASE3         104    INDUSTRY  INTERVENTIONAL  11/30/2021   \n",
       "\n",
       "  Completion Date  \n",
       "0       2/28/2022  \n",
       "1      12/31/2025  \n",
       "2         2024-06  \n",
       "3         2024-06  \n",
       "4       4/30/2023  "
      ]
     },
     "execution_count": 7,
     "metadata": {},
     "output_type": "execute_result"
    }
   ],
   "source": [
    "breast_cancer_studies.head()"
   ]
  },
  {
   "cell_type": "code",
   "execution_count": 12,
   "metadata": {},
   "outputs": [
    {
     "name": "stdout",
     "output_type": "stream",
     "text": [
      "Unique column names for covid_studies:\n",
      "NCT Number\n",
      "Status\n",
      "Conditions\n",
      "Interventions\n",
      "Sponsor\n",
      "Collaborators\n",
      "Sex\n",
      "Age\n",
      "Phases\n",
      "Enrollment\n",
      "Funder Type\n",
      "Study Type\n",
      "Start Date\n",
      "Completion Date\n",
      "\n",
      "Unique column names for breast_cancer_studies:\n",
      "NCT Number\n",
      "Status\n",
      "Conditions\n",
      "Interventions\n",
      "Sponsor\n",
      "Collaborators\n",
      "Sex\n",
      "Age\n",
      "Phases\n",
      "Enrollment\n",
      "Funder Type\n",
      "Study Type\n",
      "Start Date\n",
      "Completion Date\n",
      "\n",
      "Length of columns for covid_studies: 14\n",
      "Length of columns for breast_cancer_studies: 14\n"
     ]
    }
   ],
   "source": [
    "#Print the unique column names for both datasets nicely formatted\n",
    "print(\"Unique column names for covid_studies:\")\n",
    "for column in covid_studies.columns:\n",
    "    print(column)\n",
    "\n",
    "print(\"\\nUnique column names for breast_cancer_studies:\")\n",
    "for column in breast_cancer_studies.columns:\n",
    "    print(column)\n",
    "\n",
    "#print the length of the columns for both datasets\n",
    "print(\"\\nLength of columns for covid_studies:\", len(covid_studies.columns))\n",
    "print(\"Length of columns for breast_cancer_studies:\", len(breast_cancer_studies.columns))\n",
    "\n"
   ]
  },
  {
   "cell_type": "code",
   "execution_count": 8,
   "metadata": {},
   "outputs": [
    {
     "data": {
      "text/html": [
       "<div>\n",
       "<style scoped>\n",
       "    .dataframe tbody tr th:only-of-type {\n",
       "        vertical-align: middle;\n",
       "    }\n",
       "\n",
       "    .dataframe tbody tr th {\n",
       "        vertical-align: top;\n",
       "    }\n",
       "\n",
       "    .dataframe thead th {\n",
       "        text-align: right;\n",
       "    }\n",
       "</style>\n",
       "<table border=\"1\" class=\"dataframe\">\n",
       "  <thead>\n",
       "    <tr style=\"text-align: right;\">\n",
       "      <th></th>\n",
       "      <th>NCT Number</th>\n",
       "      <th>Status</th>\n",
       "      <th>Conditions</th>\n",
       "      <th>Interventions</th>\n",
       "      <th>Sponsor</th>\n",
       "      <th>Collaborators</th>\n",
       "      <th>Sex</th>\n",
       "      <th>Age</th>\n",
       "      <th>Phases</th>\n",
       "      <th>Enrollment</th>\n",
       "      <th>Funder Type</th>\n",
       "      <th>Study Type</th>\n",
       "      <th>Start Date</th>\n",
       "      <th>Completion Date</th>\n",
       "    </tr>\n",
       "  </thead>\n",
       "  <tbody>\n",
       "    <tr>\n",
       "      <th>0</th>\n",
       "      <td>NCT04446377</td>\n",
       "      <td>COMPLETED</td>\n",
       "      <td>COVID-19 Disease</td>\n",
       "      <td>DRUG: Apilimod Dimesylate Capsule|OTHER: Placebo</td>\n",
       "      <td>OrphAI Therapeutics</td>\n",
       "      <td>Yale University</td>\n",
       "      <td>ALL</td>\n",
       "      <td>ADULT, OLDER_ADULT</td>\n",
       "      <td>PHASE2</td>\n",
       "      <td>142</td>\n",
       "      <td>INDUSTRY</td>\n",
       "      <td>INTERVENTIONAL</td>\n",
       "      <td>7/15/2020</td>\n",
       "      <td>4/19/2021</td>\n",
       "    </tr>\n",
       "    <tr>\n",
       "      <th>1</th>\n",
       "      <td>NCT05508477</td>\n",
       "      <td>RECRUITING</td>\n",
       "      <td>COVID-19 Pandemic|COVID-19 Vaccines</td>\n",
       "      <td>BIOLOGICAL: Vaksin Merah Putih - UA SARS-CoV-2...</td>\n",
       "      <td>Dr. Soetomo General Hospital</td>\n",
       "      <td>Indonesia-MoH|Universitas Airlangga|Biotis Pha...</td>\n",
       "      <td>ALL</td>\n",
       "      <td>ADULT, OLDER_ADULT</td>\n",
       "      <td>PHASE3</td>\n",
       "      <td>4005</td>\n",
       "      <td>OTHER_GOV</td>\n",
       "      <td>INTERVENTIONAL</td>\n",
       "      <td>6/28/2022</td>\n",
       "      <td>5/28/2023</td>\n",
       "    </tr>\n",
       "    <tr>\n",
       "      <th>2</th>\n",
       "      <td>NCT04472494</td>\n",
       "      <td>TERMINATED</td>\n",
       "      <td>COVID-19|SARS-CoV-2</td>\n",
       "      <td>BIOLOGICAL: Abatacept|OTHER: Placebo</td>\n",
       "      <td>Bristol-Myers Squibb</td>\n",
       "      <td>NaN</td>\n",
       "      <td>ALL</td>\n",
       "      <td>ADULT, OLDER_ADULT</td>\n",
       "      <td>PHASE2</td>\n",
       "      <td>61</td>\n",
       "      <td>INDUSTRY</td>\n",
       "      <td>INTERVENTIONAL</td>\n",
       "      <td>10/14/2020</td>\n",
       "      <td>9/13/2021</td>\n",
       "    </tr>\n",
       "    <tr>\n",
       "      <th>3</th>\n",
       "      <td>NCT04720794</td>\n",
       "      <td>COMPLETED</td>\n",
       "      <td>Covid19|SARS (Severe Acute Respiratory Syndrom...</td>\n",
       "      <td>DEVICE: Lucira COVID-19 All-In-One test kit</td>\n",
       "      <td>Lucira Health Inc</td>\n",
       "      <td>NaN</td>\n",
       "      <td>ALL</td>\n",
       "      <td>ADULT, OLDER_ADULT</td>\n",
       "      <td>NaN</td>\n",
       "      <td>101</td>\n",
       "      <td>INDUSTRY</td>\n",
       "      <td>INTERVENTIONAL</td>\n",
       "      <td>9/25/2020</td>\n",
       "      <td>10/20/2020</td>\n",
       "    </tr>\n",
       "    <tr>\n",
       "      <th>4</th>\n",
       "      <td>NCT04598594</td>\n",
       "      <td>COMPLETED</td>\n",
       "      <td>Covid19|SARS-Associated Coronavirus as Cause o...</td>\n",
       "      <td>DRUG: Patch, Nicotine|DRUG: Patch, Placebo</td>\n",
       "      <td>Assistance Publique - Hôpitaux de Paris</td>\n",
       "      <td>NaN</td>\n",
       "      <td>ALL</td>\n",
       "      <td>ADULT, OLDER_ADULT</td>\n",
       "      <td>PHASE3</td>\n",
       "      <td>220</td>\n",
       "      <td>OTHER</td>\n",
       "      <td>INTERVENTIONAL</td>\n",
       "      <td>11/6/2020</td>\n",
       "      <td>6/20/2021</td>\n",
       "    </tr>\n",
       "  </tbody>\n",
       "</table>\n",
       "</div>"
      ],
      "text/plain": [
       "    NCT Number      Status                                         Conditions  \\\n",
       "0  NCT04446377   COMPLETED                                   COVID-19 Disease   \n",
       "1  NCT05508477  RECRUITING                COVID-19 Pandemic|COVID-19 Vaccines   \n",
       "2  NCT04472494  TERMINATED                                COVID-19|SARS-CoV-2   \n",
       "3  NCT04720794   COMPLETED  Covid19|SARS (Severe Acute Respiratory Syndrom...   \n",
       "4  NCT04598594   COMPLETED  Covid19|SARS-Associated Coronavirus as Cause o...   \n",
       "\n",
       "                                       Interventions  \\\n",
       "0   DRUG: Apilimod Dimesylate Capsule|OTHER: Placebo   \n",
       "1  BIOLOGICAL: Vaksin Merah Putih - UA SARS-CoV-2...   \n",
       "2               BIOLOGICAL: Abatacept|OTHER: Placebo   \n",
       "3        DEVICE: Lucira COVID-19 All-In-One test kit   \n",
       "4         DRUG: Patch, Nicotine|DRUG: Patch, Placebo   \n",
       "\n",
       "                                   Sponsor  \\\n",
       "0                      OrphAI Therapeutics   \n",
       "1             Dr. Soetomo General Hospital   \n",
       "2                     Bristol-Myers Squibb   \n",
       "3                        Lucira Health Inc   \n",
       "4  Assistance Publique - Hôpitaux de Paris   \n",
       "\n",
       "                                       Collaborators  Sex                 Age  \\\n",
       "0                                    Yale University  ALL  ADULT, OLDER_ADULT   \n",
       "1  Indonesia-MoH|Universitas Airlangga|Biotis Pha...  ALL  ADULT, OLDER_ADULT   \n",
       "2                                                NaN  ALL  ADULT, OLDER_ADULT   \n",
       "3                                                NaN  ALL  ADULT, OLDER_ADULT   \n",
       "4                                                NaN  ALL  ADULT, OLDER_ADULT   \n",
       "\n",
       "   Phases  Enrollment Funder Type      Study Type  Start Date Completion Date  \n",
       "0  PHASE2         142    INDUSTRY  INTERVENTIONAL   7/15/2020       4/19/2021  \n",
       "1  PHASE3        4005   OTHER_GOV  INTERVENTIONAL   6/28/2022       5/28/2023  \n",
       "2  PHASE2          61    INDUSTRY  INTERVENTIONAL  10/14/2020       9/13/2021  \n",
       "3     NaN         101    INDUSTRY  INTERVENTIONAL   9/25/2020      10/20/2020  \n",
       "4  PHASE3         220       OTHER  INTERVENTIONAL   11/6/2020       6/20/2021  "
      ]
     },
     "execution_count": 8,
     "metadata": {},
     "output_type": "execute_result"
    }
   ],
   "source": [
    "covid_studies.head()"
   ]
  },
  {
   "cell_type": "code",
   "execution_count": 3,
   "metadata": {},
   "outputs": [
    {
     "data": {
      "text/html": [
       "<div>\n",
       "<style scoped>\n",
       "    .dataframe tbody tr th:only-of-type {\n",
       "        vertical-align: middle;\n",
       "    }\n",
       "\n",
       "    .dataframe tbody tr th {\n",
       "        vertical-align: top;\n",
       "    }\n",
       "\n",
       "    .dataframe thead th {\n",
       "        text-align: right;\n",
       "    }\n",
       "</style>\n",
       "<table border=\"1\" class=\"dataframe\">\n",
       "  <thead>\n",
       "    <tr style=\"text-align: right;\">\n",
       "      <th></th>\n",
       "      <th>NCT Number</th>\n",
       "      <th>Status</th>\n",
       "      <th>Conditions</th>\n",
       "      <th>Interventions</th>\n",
       "      <th>Sponsor</th>\n",
       "      <th>Collaborators</th>\n",
       "      <th>Sex</th>\n",
       "      <th>Age</th>\n",
       "      <th>Phases</th>\n",
       "      <th>Enrollment</th>\n",
       "      <th>Funder Type</th>\n",
       "      <th>Study Type</th>\n",
       "      <th>Start Date</th>\n",
       "      <th>Completion Date</th>\n",
       "    </tr>\n",
       "  </thead>\n",
       "  <tbody>\n",
       "    <tr>\n",
       "      <th>0</th>\n",
       "      <td>NCT04446377</td>\n",
       "      <td>COMPLETED</td>\n",
       "      <td>COVID-19 Disease</td>\n",
       "      <td>DRUG: Apilimod Dimesylate Capsule|OTHER: Placebo</td>\n",
       "      <td>OrphAI Therapeutics</td>\n",
       "      <td>Yale University</td>\n",
       "      <td>ALL</td>\n",
       "      <td>ADULT, OLDER_ADULT</td>\n",
       "      <td>PHASE2</td>\n",
       "      <td>142</td>\n",
       "      <td>INDUSTRY</td>\n",
       "      <td>INTERVENTIONAL</td>\n",
       "      <td>7/15/2020</td>\n",
       "      <td>4/19/2021</td>\n",
       "    </tr>\n",
       "    <tr>\n",
       "      <th>1</th>\n",
       "      <td>NCT05508477</td>\n",
       "      <td>RECRUITING</td>\n",
       "      <td>COVID-19 Pandemic|COVID-19 Vaccines</td>\n",
       "      <td>BIOLOGICAL: Vaksin Merah Putih - UA SARS-CoV-2...</td>\n",
       "      <td>Dr. Soetomo General Hospital</td>\n",
       "      <td>Indonesia-MoH|Universitas Airlangga|Biotis Pha...</td>\n",
       "      <td>ALL</td>\n",
       "      <td>ADULT, OLDER_ADULT</td>\n",
       "      <td>PHASE3</td>\n",
       "      <td>4005</td>\n",
       "      <td>OTHER_GOV</td>\n",
       "      <td>INTERVENTIONAL</td>\n",
       "      <td>6/28/2022</td>\n",
       "      <td>5/28/2023</td>\n",
       "    </tr>\n",
       "    <tr>\n",
       "      <th>2</th>\n",
       "      <td>NCT04472494</td>\n",
       "      <td>TERMINATED</td>\n",
       "      <td>COVID-19|SARS-CoV-2</td>\n",
       "      <td>BIOLOGICAL: Abatacept|OTHER: Placebo</td>\n",
       "      <td>Bristol-Myers Squibb</td>\n",
       "      <td>NaN</td>\n",
       "      <td>ALL</td>\n",
       "      <td>ADULT, OLDER_ADULT</td>\n",
       "      <td>PHASE2</td>\n",
       "      <td>61</td>\n",
       "      <td>INDUSTRY</td>\n",
       "      <td>INTERVENTIONAL</td>\n",
       "      <td>10/14/2020</td>\n",
       "      <td>9/13/2021</td>\n",
       "    </tr>\n",
       "    <tr>\n",
       "      <th>3</th>\n",
       "      <td>NCT04720794</td>\n",
       "      <td>COMPLETED</td>\n",
       "      <td>Covid19|SARS (Severe Acute Respiratory Syndrom...</td>\n",
       "      <td>DEVICE: Lucira COVID-19 All-In-One test kit</td>\n",
       "      <td>Lucira Health Inc</td>\n",
       "      <td>NaN</td>\n",
       "      <td>ALL</td>\n",
       "      <td>ADULT, OLDER_ADULT</td>\n",
       "      <td>NaN</td>\n",
       "      <td>101</td>\n",
       "      <td>INDUSTRY</td>\n",
       "      <td>INTERVENTIONAL</td>\n",
       "      <td>9/25/2020</td>\n",
       "      <td>10/20/2020</td>\n",
       "    </tr>\n",
       "    <tr>\n",
       "      <th>4</th>\n",
       "      <td>NCT04598594</td>\n",
       "      <td>COMPLETED</td>\n",
       "      <td>Covid19|SARS-Associated Coronavirus as Cause o...</td>\n",
       "      <td>DRUG: Patch, Nicotine|DRUG: Patch, Placebo</td>\n",
       "      <td>Assistance Publique - Hôpitaux de Paris</td>\n",
       "      <td>NaN</td>\n",
       "      <td>ALL</td>\n",
       "      <td>ADULT, OLDER_ADULT</td>\n",
       "      <td>PHASE3</td>\n",
       "      <td>220</td>\n",
       "      <td>OTHER</td>\n",
       "      <td>INTERVENTIONAL</td>\n",
       "      <td>11/6/2020</td>\n",
       "      <td>6/20/2021</td>\n",
       "    </tr>\n",
       "  </tbody>\n",
       "</table>\n",
       "</div>"
      ],
      "text/plain": [
       "    NCT Number      Status                                         Conditions  \\\n",
       "0  NCT04446377   COMPLETED                                   COVID-19 Disease   \n",
       "1  NCT05508477  RECRUITING                COVID-19 Pandemic|COVID-19 Vaccines   \n",
       "2  NCT04472494  TERMINATED                                COVID-19|SARS-CoV-2   \n",
       "3  NCT04720794   COMPLETED  Covid19|SARS (Severe Acute Respiratory Syndrom...   \n",
       "4  NCT04598594   COMPLETED  Covid19|SARS-Associated Coronavirus as Cause o...   \n",
       "\n",
       "                                       Interventions  \\\n",
       "0   DRUG: Apilimod Dimesylate Capsule|OTHER: Placebo   \n",
       "1  BIOLOGICAL: Vaksin Merah Putih - UA SARS-CoV-2...   \n",
       "2               BIOLOGICAL: Abatacept|OTHER: Placebo   \n",
       "3        DEVICE: Lucira COVID-19 All-In-One test kit   \n",
       "4         DRUG: Patch, Nicotine|DRUG: Patch, Placebo   \n",
       "\n",
       "                                   Sponsor  \\\n",
       "0                      OrphAI Therapeutics   \n",
       "1             Dr. Soetomo General Hospital   \n",
       "2                     Bristol-Myers Squibb   \n",
       "3                        Lucira Health Inc   \n",
       "4  Assistance Publique - Hôpitaux de Paris   \n",
       "\n",
       "                                       Collaborators  Sex                 Age  \\\n",
       "0                                    Yale University  ALL  ADULT, OLDER_ADULT   \n",
       "1  Indonesia-MoH|Universitas Airlangga|Biotis Pha...  ALL  ADULT, OLDER_ADULT   \n",
       "2                                                NaN  ALL  ADULT, OLDER_ADULT   \n",
       "3                                                NaN  ALL  ADULT, OLDER_ADULT   \n",
       "4                                                NaN  ALL  ADULT, OLDER_ADULT   \n",
       "\n",
       "   Phases  Enrollment Funder Type      Study Type  Start Date Completion Date  \n",
       "0  PHASE2         142    INDUSTRY  INTERVENTIONAL   7/15/2020       4/19/2021  \n",
       "1  PHASE3        4005   OTHER_GOV  INTERVENTIONAL   6/28/2022       5/28/2023  \n",
       "2  PHASE2          61    INDUSTRY  INTERVENTIONAL  10/14/2020       9/13/2021  \n",
       "3     NaN         101    INDUSTRY  INTERVENTIONAL   9/25/2020      10/20/2020  \n",
       "4  PHASE3         220       OTHER  INTERVENTIONAL   11/6/2020       6/20/2021  "
      ]
     },
     "execution_count": 3,
     "metadata": {},
     "output_type": "execute_result"
    }
   ],
   "source": [
    "combined_studies = pd.concat([covid_studies, breast_cancer_studies], ignore_index=True)\n",
    "combined_studies.head()\n"
   ]
  },
  {
   "cell_type": "code",
   "execution_count": 17,
   "metadata": {},
   "outputs": [
    {
     "name": "stdout",
     "output_type": "stream",
     "text": [
      "Number of studies that reached each level of trial phase for covid:\n",
      "PHASE2           550\n",
      "PHASE3           412\n",
      "PHASE1           273\n",
      "PHASE2|PHASE3    182\n",
      "PHASE1|PHASE2    163\n",
      "PHASE4           145\n",
      "EARLY_PHASE1      38\n",
      "Name: Phases, dtype: int64\n",
      "\n",
      "Number of studies that reached each level of trial phase for breast cancer:\n",
      "PHASE2           687\n",
      "PHASE1           361\n",
      "PHASE3           237\n",
      "PHASE1|PHASE2    232\n",
      "PHASE4            80\n",
      "EARLY_PHASE1      69\n",
      "PHASE2|PHASE3     35\n",
      "Name: Phases, dtype: int64\n"
     ]
    }
   ],
   "source": [
    "#For covid, print the number of studies that reached each level of trial phase\n",
    "print(\"Number of studies that reached each level of trial phase for covid:\")\n",
    "print(covid_studies['Phases'].value_counts())\n",
    "#For breast cancer, print the number of studies that reached each level of trial phase\n",
    "print(\"\\nNumber of studies that reached each level of trial phase for breast cancer:\")\n",
    "print(breast_cancer_studies['Phases'].value_counts())\n",
    "\n"
   ]
  },
  {
   "cell_type": "code",
   "execution_count": 19,
   "metadata": {},
   "outputs": [
    {
     "data": {
      "image/png": "[encoded data removed]",
      "text/plain": [
       "<Figure size 720x360 with 1 Axes>"
      ]
     },
     "metadata": {
      "needs_background": "light"
     },
     "output_type": "display_data"
    }
   ],
   "source": [
    "#Order the phases for covid and breast cancer\n",
    "order = [\"EARLY_PHASE1\", \"PHASE1\", \"PHASE1|PHASE2\", \"PHASE2\", \"PHASE2|PHASE3\", \"PHASE3\", \"PHASE4\"]\n",
    "#Graph the number of studies that reached each level of trial phase for covid\n",
    "plt.figure(figsize=(10, 5))\n",
    "sns.countplot(data=covid_studies, x='Phases', order=order)\n",
    "plt.title(\"Number of studies that reached each level of trial phase for covid\")\n",
    "plt.show()\n"
   ]
  },
  {
   "cell_type": "code",
   "execution_count": 32,
   "metadata": {},
   "outputs": [
    {
     "name": "stdout",
     "output_type": "stream",
     "text": [
      "Number of unique sponsors for covid: 1382\n",
      "Number of unique sponsors for breast cancer: 1192\n",
      "Number of unique sponsors for combined dataset: 2310\n"
     ]
    }
   ],
   "source": [
    "#Get the unique values of the sponsor column for covid and save it as a list titled covid_sponsors\n",
    "covid_sponsors = covid_studies['Sponsor'].unique()\n",
    "#Get the unique values of the sponsor column for breast cancer and save it as a list titled breast_cancer_sponsors\n",
    "breast_cancer_sponsors = breast_cancer_studies['Sponsor'].unique()\n",
    "#Print the length of the list of unique sponsors for covid\n",
    "print(\"Number of unique sponsors for covid:\", len(covid_sponsors))\n",
    "#Print the length of the list of unique sponsors for breast cancer\n",
    "print(\"Number of unique sponsors for breast cancer:\", len(breast_cancer_sponsors))\n",
    "\n",
    "#Total unqiue sponsors from combined dataset\n",
    "combined_sponsors = combined_studies['Sponsor'].unique()\n",
    "print(\"Number of unique sponsors for combined dataset:\", len(combined_sponsors))"
   ]
  },
  {
   "cell_type": "code",
   "execution_count": 46,
   "metadata": {},
   "outputs": [
    {
     "name": "stdout",
     "output_type": "stream",
     "text": [
      "Average number of enrolled participants for covid: 999.0012205044752\n",
      "Minimum number of enrolled participants for covid: 1\n",
      "Maximum number of enrolled participants for covid: 75012\n",
      "Median number of enrolled participants for covid: 119.0\n"
     ]
    },
    {
     "data": {
      "image/png": "[encoded data removed]",
      "text/plain": [
       "<Figure size 720x360 with 1 Axes>"
      ]
     },
     "metadata": {
      "needs_background": "light"
     },
     "output_type": "display_data"
    },
    {
     "name": "stdout",
     "output_type": "stream",
     "text": [
      "Average number of enrolled participants for covid: 999.0012205044752\n",
      "Minimum number of enrolled participants for covid: 1\n",
      "Maximum number of enrolled participants for covid: 75012\n",
      "Median number of enrolled participants for covid: 119.0\n"
     ]
    },
    {
     "data": {
      "image/png": "[encoded data removed]",
      "text/plain": [
       "<Figure size 720x360 with 1 Axes>"
      ]
     },
     "metadata": {
      "needs_background": "light"
     },
     "output_type": "display_data"
    },
    {
     "name": "stdout",
     "output_type": "stream",
     "text": [
      "Average number of enrolled participants for covid: 401.5938281901585\n",
      "Minimum number of enrolled participants for covid: 1\n",
      "Maximum number of enrolled participants for covid: 9902\n",
      "Median number of enrolled participants for covid: 110.0\n"
     ]
    },
    {
     "data": {
      "image/png": "[encoded data removed]",
      "text/plain": [
       "<Figure size 720x360 with 1 Axes>"
      ]
     },
     "metadata": {
      "needs_background": "light"
     },
     "output_type": "display_data"
    }
   ],
   "source": [
    "#Drop studies that had an enrollment of 0\n",
    "covid_studies = covid_studies[covid_studies['Enrollment'] != 0]\n",
    "#Find the average number of enrolled participants for covid, and use some stats to describe the distribution\n",
    "print(\"Average number of enrolled participants for covid:\", covid_studies['Enrollment'].mean())\n",
    "print(\"Minimum number of enrolled participants for covid:\", covid_studies['Enrollment'].min())\n",
    "print(\"Maximum number of enrolled participants for covid:\", covid_studies['Enrollment'].max())\n",
    "print(\"Median number of enrolled participants for covid:\", covid_studies['Enrollment'].median())\n",
    "#Graph the distribution of the number of enrolled participants for covid\n",
    "plt.figure(figsize=(10, 5))\n",
    "sns.histplot(covid_studies['Enrollment'], bins=20)\n",
    "plt.title(\"Distribution of the number of enrolled participants for covid\")\n",
    "plt.show()\n",
    "\n",
    "#Drop studies that had an enrollment of 0 and enrollment above 100000\n",
    "covid_studies = covid_studies[(covid_studies['Enrollment'] != 0) & (covid_studies['Enrollment'] < 100000)]\n",
    "#Find the average number of enrolled participants for covid, and use some stats to describe the distribution\n",
    "print(\"Average number of enrolled participants for covid:\", covid_studies['Enrollment'].mean())\n",
    "print(\"Minimum number of enrolled participants for covid:\", covid_studies['Enrollment'].min())\n",
    "print(\"Maximum number of enrolled participants for covid:\", covid_studies['Enrollment'].max())\n",
    "print(\"Median number of enrolled participants for covid:\", covid_studies['Enrollment'].median())\n",
    "#Graph the distribution of the number of enrolled participants for covid\n",
    "plt.figure(figsize=(10, 5))\n",
    "sns.histplot(covid_studies['Enrollment'], bins=20)\n",
    "plt.title(\"Distribution of the number of enrolled participants for covid\")\n",
    "plt.show()\n",
    "\n",
    "#Drop studies that had an enrollment of enrollment above 10000\n",
    "covid_studies = covid_studies[(covid_studies['Enrollment'] != 0) & (covid_studies['Enrollment'] < 10000)]\n",
    "#Find the average number of enrolled participants for covid, and use some stats to describe the distribution\n",
    "print(\"Average number of enrolled participants for covid:\", covid_studies['Enrollment'].mean())\n",
    "print(\"Minimum number of enrolled participants for covid:\", covid_studies['Enrollment'].min())\n",
    "print(\"Maximum number of enrolled participants for covid:\", covid_studies['Enrollment'].max())\n",
    "print(\"Median number of enrolled participants for covid:\", covid_studies['Enrollment'].median())\n",
    "#Graph the distribution of the number of enrolled participants for covid\n",
    "plt.figure(figsize=(10, 5))\n",
    "sns.histplot(covid_studies['Enrollment'], bins=20)\n",
    "plt.title(\"Distribution of the number of enrolled participants for covid\")\n",
    "plt.show()\n"
   ]
  },
  {
   "cell_type": "code",
   "execution_count": 50,
   "metadata": {},
   "outputs": [
    {
     "name": "stdout",
     "output_type": "stream",
     "text": [
      "Average number of enrolled participants for breast cancer: 206.47997213514455\n",
      "Minimum number of enrolled participants for breast cancer: 1\n",
      "Maximum number of enrolled participants for breast cancer: 8000\n",
      "Median number of enrolled participants for breast cancer: 78.0\n"
     ]
    },
    {
     "data": {
      "image/png": "[encoded data removed]",
      "text/plain": [
       "<Figure size 720x360 with 1 Axes>"
      ]
     },
     "metadata": {
      "needs_background": "light"
     },
     "output_type": "display_data"
    },
    {
     "name": "stdout",
     "output_type": "stream",
     "text": [
      "Average number of enrolled participants for breast cancer: 198.22253226369025\n",
      "Minimum number of enrolled participants for breast cancer: 1\n",
      "Maximum number of enrolled participants for breast cancer: 4350\n",
      "Median number of enrolled participants for breast cancer: 77.0\n"
     ]
    },
    {
     "data": {
      "image/png": "[encoded data removed]",
      "text/plain": [
       "<Figure size 720x360 with 1 Axes>"
      ]
     },
     "metadata": {
      "needs_background": "light"
     },
     "output_type": "display_data"
    }
   ],
   "source": [
    "#Drop studies that had an enrollment of 0\n",
    "breast_cancer_studies = breast_cancer_studies[breast_cancer_studies['Enrollment'] != 0]\n",
    "#Find the average number of enrolled participants for breast cancer, and use some stats to describe the distribution\n",
    "print(\"Average number of enrolled participants for breast cancer:\", breast_cancer_studies['Enrollment'].mean())\n",
    "print(\"Minimum number of enrolled participants for breast cancer:\", breast_cancer_studies['Enrollment'].min())\n",
    "print(\"Maximum number of enrolled participants for breast cancer:\", breast_cancer_studies['Enrollment'].max())\n",
    "print(\"Median number of enrolled participants for breast cancer:\", breast_cancer_studies['Enrollment'].median())\n",
    "#Graph the distribution of the number of enrolled participants for breast cancer\n",
    "plt.figure(figsize=(10, 5))\n",
    "sns.histplot(breast_cancer_studies['Enrollment'], bins=20)\n",
    "plt.title(\"Distribution of the number of enrolled participants for breast cancer\")\n",
    "plt.show()\n",
    "#Drop studies that had an enrollment of 0 and enrollment above 100000\n",
    "breast_cancer_studies = breast_cancer_studies[(breast_cancer_studies['Enrollment'] != 0) & (breast_cancer_studies['Enrollment'] < 5000)]\n",
    "#Find the average number of enrolled participants for breast cancer, and use some stats to describe the distribution\n",
    "print(\"Average number of enrolled participants for breast cancer:\", breast_cancer_studies['Enrollment'].mean())\n",
    "print(\"Minimum number of enrolled participants for breast cancer:\", breast_cancer_studies['Enrollment'].min())\n",
    "print(\"Maximum number of enrolled participants for breast cancer:\", breast_cancer_studies['Enrollment'].max())\n",
    "print(\"Median number of enrolled participants for breast cancer:\", breast_cancer_studies['Enrollment'].median())\n",
    "#Graph the distribution of the number of enrolled participants for breast cancer\n",
    "plt.figure(figsize=(10, 5))\n",
    "sns.histplot(breast_cancer_studies['Enrollment'], bins=20)\n",
    "plt.title(\"Distribution of the number of enrolled participants for breast cancer\")\n",
    "plt.show()\n"
   ]
  },
  {
   "cell_type": "code",
   "execution_count": 56,
   "metadata": {},
   "outputs": [
    {
     "name": "stdout",
     "output_type": "stream",
     "text": [
      "Basic info for the duration of studies for covid:\n",
      "count    2395.000000\n",
      "mean      440.339875\n",
      "std       380.850082\n",
      "min         4.000000\n",
      "25%       189.000000\n",
      "50%       351.000000\n",
      "75%       565.500000\n",
      "max      4443.000000\n",
      "Name: Duration, dtype: float64\n",
      "\n",
      "Basic info for the duration of studies for breast cancer:\n",
      "count    2867.000000\n",
      "mean     1204.320893\n",
      "std       900.460454\n",
      "min         0.000000\n",
      "25%       602.000000\n",
      "50%      1044.000000\n",
      "75%      1546.000000\n",
      "max      7329.000000\n",
      "Name: Duration, dtype: float64\n"
     ]
    },
    {
     "data": {
      "image/png": "[encoded data removed]",
      "text/plain": [
       "<Figure size 720x360 with 1 Axes>"
      ]
     },
     "metadata": {
      "needs_background": "light"
     },
     "output_type": "display_data"
    },
    {
     "data": {
      "image/png": "[encoded data removed]",
      "text/plain": [
       "<Figure size 720x360 with 1 Axes>"
      ]
     },
     "metadata": {
      "needs_background": "light"
     },
     "output_type": "display_data"
    }
   ],
   "source": [
    "#Describe some basic info for the duration of studies between covid and breast cancer, create a column called duration which subtracts the start date from the Completion Date\n",
    "covid_studies['Start Date'] = pd.to_datetime(covid_studies['Start Date'])\n",
    "covid_studies['Completion Date'] = pd.to_datetime(covid_studies['Completion Date'])\n",
    "covid_studies['Duration'] = covid_studies['Completion Date'] - covid_studies['Start Date']\n",
    "covid_studies['Duration'] = covid_studies['Duration'].dt.days\n",
    "breast_cancer_studies['Start Date'] = pd.to_datetime(breast_cancer_studies['Start Date'])\n",
    "breast_cancer_studies['Completion Date'] = pd.to_datetime(breast_cancer_studies['Completion Date'])\n",
    "breast_cancer_studies['Duration'] = breast_cancer_studies['Completion Date'] - breast_cancer_studies['Start Date']\n",
    "breast_cancer_studies['Duration'] = breast_cancer_studies['Duration'].dt.days\n",
    "\n",
    "print(\"Basic info for the duration of studies for covid:\")\n",
    "print(covid_studies['Duration'].describe())\n",
    "print(\"\\nBasic info for the duration of studies for breast cancer:\")\n",
    "print(breast_cancer_studies['Duration'].describe())\n",
    "#Graph the distribution of the duration of studies for covid\n",
    "plt.figure(figsize=(10, 5))\n",
    "sns.histplot(covid_studies['Duration'], bins=20)\n",
    "plt.title(\"Distribution of the duration of studies for covid\")\n",
    "plt.show()\n",
    "#Graph the distribution of the duration of studies for breast cancer\n",
    "plt.figure(figsize=(10, 5))\n",
    "sns.histplot(breast_cancer_studies['Duration'], bins=20)\n",
    "plt.title(\"Distribution of the duration of studies for breast cancer\")\n",
    "plt.show()\n"
   ]
  },
  {
   "cell_type": "code",
   "execution_count": null,
   "metadata": {},
   "outputs": [],
   "source": []
  }
 ],
 "metadata": {
  "kernelspec": {
   "display_name": "base",
   "language": "python",
   "name": "python3"
  },
  "language_info": {
   "codemirror_mode": {
    "name": "ipython",
    "version": 3
   },
   "file_extension": ".py",
   "mimetype": "text/x-python",
   "name": "python",
   "nbconvert_exporter": "python",
   "pygments_lexer": "ipython3",
   "version": "3.9.7"
  }
 },
 "nbformat": 4,
 "nbformat_minor": 2
}
